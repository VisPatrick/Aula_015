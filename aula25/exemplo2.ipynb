{
 "cells": [
  {
   "cell_type": "code",
   "execution_count": null,
   "metadata": {},
   "outputs": [],
   "source": [
    "from datetime import datetime\n",
    "import polars as pl\n",
    "import numpy as np\n",
    "import matplotlib.pyplot as plt\n",
    "import seaborn as sns\n",
    "# pip install xlsxwriter\n",
    "\n",
    "# Endereços dos Dados\n",
    "ENDERECO_DADOS = r'../../../bronze/'\n",
    "\n",
    "\n",
    "# obtenção de dados\n",
    "try:\n",
    "    print('Obtendo dados do arquivo parquet...')\n",
    "\n",
    "    # hora de início\n",
    "    hora_inicio = datetime.now()\n",
    "\n",
    "    # retornar o plano de execução\n",
    "    df_bf_exec_plan = pl.scan_parquet(ENDERECO_DADOS + 'bolsa_familia_str_cache.parquet')\n",
    "\n",
    "    # executar o plano de execução e obter os dados\n",
    "    df_bf = df_bf_exec_plan.collect() # coletar os dados do plano de execução\n",
    "\n",
    "    print(df_bf.head())\n",
    "    print(df_bf.columns)\n",
    "    print(df_bf.dtypes)\n",
    "\n",
    "    # hora de término\n",
    "    hora_fim = datetime.now()\n",
    "\n",
    "    print(f'Tempo de execução: {hora_fim - hora_inicio}')\n",
    "\n",
    "    print('Dados obtidos com sucesso!')\n",
    "\n",
    "except Exception as e:\n",
    "    print(f'Erro ao obter dados: {e}')"
   ]
  },
  {
   "cell_type": "code",
   "execution_count": 2,
   "metadata": {},
   "outputs": [],
   "source": [
    "try:\n",
    "    arrey_valor_parcela = np.array(df_bf['VALOR PARCELA'])\n",
    "\n",
    "\n",
    "except Exception as e:\n",
    "    print(f'Erro ao processar dados {e}')"
   ]
  },
  {
   "cell_type": "code",
   "execution_count": null,
   "metadata": {},
   "outputs": [],
   "source": [
    "# vIZUALIZANDO  AS Distancias dos valores das Parcelas \"Boxplot\"\n",
    "\n",
    "try:\n",
    "    # plt.figure(figsize=(12, 6))\n",
    "    sns.boxplot(x=arrey_valor_parcela, color ='lightblue')\n",
    "    plt.show()\n",
    "except Exception as i:\n",
    "    print(f'Erro ao plotar {i}')"
   ]
  },
  {
   "cell_type": "code",
   "execution_count": null,
   "metadata": {},
   "outputs": [],
   "source": [
    "# Mostrar as frequencias dos valores das parcelas\n",
    "try:\n",
    "    print('Frenquencia dos valores das parcelas: ')\n",
    "    df_frequencia = (\n",
    "        df_bf.group_by('VALOR PARCELA')\n",
    "        .agg(pl.len().alias('FREQUÊNCIA'))\n",
    "        .sort('FREQUÊNCIA', descending=True)\n",
    "    )\n",
    "    #   Exibir as 10 primeiras frequencias\n",
    "    print('\\n', df_frequencia.head(10))\n",
    "    \n",
    "    #   Obter a nota\n",
    "    moda_valor = df_frequencia[0, 'VALOR PARCELA']\n",
    "    moda_freq = df_frequencia[0, 'FREQUÊNCIA']\n",
    "\n",
    "    #   Exportar para Excel\n",
    "    df_frequencia.write_excel('frequencia_valor_parcela.xlsx',)\n",
    "\n",
    "    #   Exportar csv\n",
    "    df_frequencia.write_csv('frequencia_valor_parcela.csv')\n",
    "    \n",
    "    print(f'Moda Valor: {moda_valor}, Frequência: {moda_freq}')\n",
    "except Exception as u:\n",
    "    print(f'Erros ao precessar a frequencia dos valores: {u}')"
   ]
  },
  {
   "cell_type": "code",
   "execution_count": 9,
   "metadata": {},
   "outputs": [
    {
     "name": "stdout",
     "output_type": "stream",
     "text": [
      "Erro ao plotar histograma: Unable to allocate 777. MiB for an array with shape (101853456,) and data type float64\n"
     ]
    }
   ],
   "source": [
    "#   Visualizar a Frequencia dos Valores da Parcelas 'HISTOGRAMA'\n",
    "try:\n",
    "    bins = np.arange(0, 4800, 100)\n",
    "    sns.histplot(arrey_valor_parcela, bins=bins, color='lightblue')\n",
    "\n",
    "    plt.show()\n",
    "except Exception as h:\n",
    "    print(f'Erro ao plotar histograma: {h}')\n"
   ]
  }
 ],
 "metadata": {
  "kernelspec": {
   "display_name": "Python 3",
   "language": "python",
   "name": "python3"
  },
  "language_info": {
   "codemirror_mode": {
    "name": "ipython",
    "version": 3
   },
   "file_extension": ".py",
   "mimetype": "text/x-python",
   "name": "python",
   "nbconvert_exporter": "python",
   "pygments_lexer": "ipython3",
   "version": "3.11.4"
  },
  "orig_nbformat": 4
 },
 "nbformat": 4,
 "nbformat_minor": 2
}
